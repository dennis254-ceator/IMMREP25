{
 "cells": [
  {
   "cell_type": "code",
   "execution_count": 1,
   "id": "46c02a80",
   "metadata": {
    "execution": {
     "iopub.execute_input": "2025-03-16T16:02:39.499651Z",
     "iopub.status.busy": "2025-03-16T16:02:39.499137Z",
     "iopub.status.idle": "2025-03-16T16:02:56.678790Z",
     "shell.execute_reply": "2025-03-16T16:02:56.677706Z"
    },
    "papermill": {
     "duration": 17.185065,
     "end_time": "2025-03-16T16:02:56.680763",
     "exception": false,
     "start_time": "2025-03-16T16:02:39.495698",
     "status": "completed"
    },
    "tags": []
   },
   "outputs": [
    {
     "name": "stdout",
     "output_type": "stream",
     "text": [
      "Validation AUC Score: 0.5831\n",
      "Submission file saved as 'submission.csv'!\n"
     ]
    }
   ],
   "source": [
    "import pandas as pd\n",
    "import numpy as np\n",
    "from sklearn.ensemble import RandomForestClassifier\n",
    "from sklearn.model_selection import train_test_split\n",
    "from sklearn.preprocessing import LabelEncoder\n",
    "from sklearn.metrics import roc_auc_score\n",
    "import joblib\n",
    "\n",
    "# Load datasets\n",
    "train_iedb = pd.read_csv(\"/kaggle/input/d/dennistheuri/immrep25/iedb_positives.csv\")\n",
    "train_vdjdb = pd.read_csv(\"/kaggle/input/d/dennistheuri/immrep25/vdjdb_positives.csv\")\n",
    "test_data = pd.read_csv(\"/kaggle/input/d/dennistheuri/immrep25/test.csv\")\n",
    "\n",
    "# Merge training data\n",
    "train_data = pd.concat([train_iedb, train_vdjdb], ignore_index=True)\n",
    "\n",
    "# Select important features\n",
    "features = [\"CDR3a\", \"CDR3b\", \"Peptide\"]\n",
    "train_data = train_data.dropna(subset=features)\n",
    "\n",
    "# Encode sequences using ASCII encoding\n",
    "def encode_sequence(seq):\n",
    "    return np.mean([ord(c) for c in str(seq)])\n",
    "\n",
    "# Encode training data\n",
    "train_data[\"CDR3a_encoded\"] = train_data[\"CDR3a\"].apply(encode_sequence)\n",
    "train_data[\"CDR3b_encoded\"] = train_data[\"CDR3b\"].apply(encode_sequence)\n",
    "train_data[\"Peptide_encoded\"] = train_data[\"Peptide\"].apply(encode_sequence)\n",
    "\n",
    "# Create Negative Samples (Assumed Non-Binding Pairs)\n",
    "neg_samples = train_data.copy()\n",
    "neg_samples[\"CDR3a_encoded\"] = np.random.permutation(neg_samples[\"CDR3a_encoded\"])\n",
    "neg_samples[\"CDR3b_encoded\"] = np.random.permutation(neg_samples[\"CDR3b_encoded\"])\n",
    "neg_samples[\"Peptide_encoded\"] = np.random.permutation(neg_samples[\"Peptide_encoded\"])\n",
    "neg_samples[\"Label\"] = 0  # Non-binding\n",
    "\n",
    "# Add labels\n",
    "train_data[\"Label\"] = 1  # Binding pairs\n",
    "train_data = pd.concat([train_data, neg_samples], ignore_index=True)\n",
    "\n",
    "# Prepare feature matrix and target variable\n",
    "X = train_data[[\"CDR3a_encoded\", \"CDR3b_encoded\", \"Peptide_encoded\"]]\n",
    "y = train_data[\"Label\"]  # Now has both 0s and 1s\n",
    "\n",
    "# Split into train & validation sets\n",
    "X_train, X_val, y_train, y_val = train_test_split(X, y, test_size=0.2, stratify=y, random_state=42)\n",
    "\n",
    "# Train Random Forest model\n",
    "model = RandomForestClassifier(n_estimators=100, random_state=42)\n",
    "model.fit(X_train, y_train)\n",
    "\n",
    "# Validate model\n",
    "y_val_pred = model.predict_proba(X_val)[:, 1]  # Now it should work fine\n",
    "auc_score = roc_auc_score(y_val, y_val_pred)\n",
    "print(f\"Validation AUC Score: {auc_score:.4f}\")\n",
    "\n",
    "# Process test data\n",
    "test_data[\"CDR3a_encoded\"] = test_data[\"CDR3a\"].apply(encode_sequence)\n",
    "test_data[\"CDR3b_encoded\"] = test_data[\"CDR3b\"].apply(encode_sequence)\n",
    "test_data[\"Peptide_encoded\"] = test_data[\"Peptide\"].apply(encode_sequence)\n",
    "\n",
    "# Prepare test features\n",
    "X_test = test_data[[\"CDR3a_encoded\", \"CDR3b_encoded\", \"Peptide_encoded\"]]\n",
    "\n",
    "# Make predictions\n",
    "test_data[\"Prediction\"] = model.predict_proba(X_test)[:, 1]\n",
    "\n",
    "# Save submission\n",
    "submission = test_data[[\"ID\", \"Prediction\"]]\n",
    "submission.to_csv(\"submission.csv\", index=False)\n",
    "print(\"Submission file saved as 'submission.csv'!\")"
   ]
  }
 ],
 "metadata": {
  "kaggle": {
   "accelerator": "none",
   "dataSources": [
    {
     "databundleVersionId": 11339756,
     "sourceId": 90596,
     "sourceType": "competition"
    },
    {
     "datasetId": 6884867,
     "sourceId": 11051290,
     "sourceType": "datasetVersion"
    }
   ],
   "dockerImageVersionId": 30918,
   "isGpuEnabled": false,
   "isInternetEnabled": true,
   "language": "python",
   "sourceType": "notebook"
  },
  "kernelspec": {
   "display_name": "Python 3",
   "language": "python",
   "name": "python3"
  },
  "language_info": {
   "codemirror_mode": {
    "name": "ipython",
    "version": 3
   },
   "file_extension": ".py",
   "mimetype": "text/x-python",
   "name": "python",
   "nbconvert_exporter": "python",
   "pygments_lexer": "ipython3",
   "version": "3.10.12"
  },
  "papermill": {
   "default_parameters": {},
   "duration": 20.963671,
   "end_time": "2025-03-16T16:02:57.504129",
   "environment_variables": {},
   "exception": null,
   "input_path": "__notebook__.ipynb",
   "output_path": "__notebook__.ipynb",
   "parameters": {},
   "start_time": "2025-03-16T16:02:36.540458",
   "version": "2.6.0"
  }
 },
 "nbformat": 4,
 "nbformat_minor": 5
}
